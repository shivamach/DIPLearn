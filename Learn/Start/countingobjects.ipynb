{
 "cells": [
  {
   "cell_type": "code",
   "execution_count": 2,
   "metadata": {},
   "outputs": [
    {
     "name": "stderr",
     "output_type": "stream",
     "text": [
      "usage: ipykernel_launcher.py [-h] -i IMAGE\n",
      "ipykernel_launcher.py: error: the following arguments are required: -i/--image\n"
     ]
    },
    {
     "ename": "SystemExit",
     "evalue": "2",
     "output_type": "error",
     "traceback": [
      "An exception has occurred, use %tb to see the full traceback.\n",
      "\u001b[0;31mSystemExit\u001b[0m\u001b[0;31m:\u001b[0m 2\n"
     ]
    },
    {
     "name": "stderr",
     "output_type": "stream",
     "text": [
      "/home/shivam/.virtualenvs/cv4/lib/python3.6/site-packages/IPython/core/interactiveshell.py:3327: UserWarning: To exit: use 'exit', 'quit', or Ctrl-D.\n",
      "  warn(\"To exit: use 'exit', 'quit', or Ctrl-D.\", stacklevel=1)\n"
     ]
    }
   ],
   "source": [
    "import argparse\n",
    "import imutils\n",
    "import cv2\n",
    "\n",
    "ap = argparse.ArgumentParser()\n",
    "ap.add_argument(\"-i\",\"--image\",required=True,help=\"path to input image\")\n",
    "args = vars(ap.parse_args())\n",
    "#this is useful for providing extra information to the program at runtime from terminal\n",
    "#args[\"image\"] refers to the path to the image now onwards in the code\n"
   ]
  },
  {
   "cell_type": "code",
   "execution_count": 3,
   "metadata": {},
   "outputs": [
    {
     "data": {
      "text/plain": [
       "-1"
      ]
     },
     "execution_count": 3,
     "metadata": {},
     "output_type": "execute_result"
    }
   ],
   "source": [
    "import imutils\n",
    "import cv2\n",
    "\n",
    "image = cv2.imread(\"tetris_blocks.png\")\n",
    "cv2.imshow(\"original image\",image)\n",
    "cv2.waitKey(0)\n",
    "#taking image in image variable\n",
    "\n",
    "gray = cv2.cvtColor(image,cv2.COLOR_BGR2GRAY)\n",
    "#cvtColor used, image and then the function for conversion in cv2\n",
    "cv2.imshow(\"grey\",gray)\n",
    "cv2.waitKey(0)\n"
   ]
  },
  {
   "cell_type": "code",
   "execution_count": 4,
   "metadata": {},
   "outputs": [
    {
     "data": {
      "text/plain": [
       "-1"
      ]
     },
     "execution_count": 4,
     "metadata": {},
     "output_type": "execute_result"
    }
   ],
   "source": [
    "#edge detection\n",
    "edged = cv2.Canny(gray,30,150)\n",
    "#inputs are gray image,threshold min,max and aperture_size = kernel,default is 3\n",
    "cv2.imshow(\"Edged\",edged)\n",
    "cv2.waitKey(0)"
   ]
  },
  {
   "cell_type": "code",
   "execution_count": 9,
   "metadata": {},
   "outputs": [
    {
     "data": {
      "text/plain": [
       "-1"
      ]
     },
     "execution_count": 9,
     "metadata": {},
     "output_type": "execute_result"
    }
   ],
   "source": [
    "#thresholding\n",
    "#done to remove lighter or darker regions\n",
    "thresh = cv2.threshold(gray,225,255,cv2.THRESH_BINARY_INV)[1]\n",
    "#input image,threshold,setto,\n",
    "#here all pixels with value above 225 are set to 0 and below to 255,last parameter makes it happen\n",
    "thresh2 = cv2.threshold(gray,225,255,cv2.THRESH_BINARY)[1]\n",
    "#see what happens to this image makes sense\n",
    "cv2.imshow(\"Thresh\",thresh)\n",
    "cv2.waitKey(0)\n",
    "cv2.imshow(\"Thresh2\",thresh2)\n",
    "cv2.waitKey(0)\n",
    "#https://docs.opencv.org/3.4.0/d7/d1b/group__imgproc__misc.html#ggaa9e58d2860d4afa658ef70a9b1115576a19120b1a11d8067576cc24f4d2f03754"
   ]
  },
  {
   "cell_type": "code",
   "execution_count": 17,
   "metadata": {},
   "outputs": [],
   "source": [
    "#to detect and draw contours,thresholding is necessary\n",
    "cnts = cv2.findContours(thresh.copy(),cv2.RETR_EXTERNAL,cv2.CHAIN_APPROX_SIMPLE)\n",
    "#input image is thresholded , read about the parameters extra\n",
    "cnts = imutils.grab_contours(cnts)\n",
    "#makes up for function differences over different opencv versions\n",
    "output = image.copy()\n",
    "\n",
    "for c in cnts:\n",
    "    cv2.drawContours(output,[c],-1,(240,0,159),3)\n",
    "    cv2.imshow(\"contours\",output)\n",
    "    cv2.waitKey(0)\n",
    "#for counting the number of contours we can use len(cnts)"
   ]
  },
  {
   "cell_type": "code",
   "execution_count": 12,
   "metadata": {},
   "outputs": [
    {
     "data": {
      "text/plain": [
       "-1"
      ]
     },
     "execution_count": 12,
     "metadata": {},
     "output_type": "execute_result"
    }
   ],
   "source": [
    "#Erosions and Dilations,to reduce noise in the binary images\n",
    "#set foreground to white for following code\n",
    "mask = thresh.copy()\n",
    "mask = cv2.erode(mask,None,iterations=5)\n",
    "#iterations is the number otf times the mask runs over the image\n",
    "cv2.imshow(\"er\",mask)\n",
    "cv2.waitKey(0)\n"
   ]
  },
  {
   "cell_type": "code",
   "execution_count": 15,
   "metadata": {},
   "outputs": [
    {
     "data": {
      "text/plain": [
       "-1"
      ]
     },
     "execution_count": 15,
     "metadata": {},
     "output_type": "execute_result"
    }
   ],
   "source": [
    "mask2 = thresh.copy()\n",
    "mask2 = cv2.dilate(mask,None,iterations=5)\n",
    "cv2.imshow(\"Dilated\",mask)\n",
    "cv2.waitKey(0)"
   ]
  },
  {
   "cell_type": "code",
   "execution_count": 20,
   "metadata": {},
   "outputs": [
    {
     "data": {
      "text/plain": [
       "-1"
      ]
     },
     "execution_count": 20,
     "metadata": {},
     "output_type": "execute_result"
    }
   ],
   "source": [
    "#masking and bitwise operations\n",
    "#using the thresholded image as a mask\n",
    "mask = thresh.copy()\n",
    "output = cv2.bitwise_and(image,image,mask=mask)\n",
    "#mask is the thresh image copy\n",
    "#output,input,mask=maskimagename\n",
    "cv2.imshow(\"masked\",output)\n",
    "cv2.waitKey(0)"
   ]
  },
  {
   "cell_type": "code",
   "execution_count": null,
   "metadata": {},
   "outputs": [],
   "source": []
  }
 ],
 "metadata": {
  "kernelspec": {
   "display_name": "Python 3",
   "language": "python",
   "name": "python3"
  },
  "language_info": {
   "codemirror_mode": {
    "name": "ipython",
    "version": 3
   },
   "file_extension": ".py",
   "mimetype": "text/x-python",
   "name": "python",
   "nbconvert_exporter": "python",
   "pygments_lexer": "ipython3",
   "version": "3.6.9"
  }
 },
 "nbformat": 4,
 "nbformat_minor": 2
}
