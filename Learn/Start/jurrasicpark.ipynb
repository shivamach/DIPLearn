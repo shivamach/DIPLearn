{
 "cells": [
  {
   "cell_type": "code",
   "execution_count": 2,
   "metadata": {},
   "outputs": [
    {
     "name": "stdout",
     "output_type": "stream",
     "text": [
      "the dimensions of image are 322x600x3\n"
     ]
    }
   ],
   "source": [
    "import imutils #image utilities\n",
    "import cv2\n",
    "image = cv2.imread(\"jp.png\")\n",
    "(h,w,d) = image.shape\n",
    "print(f\"the dimensions of image are {h}x{w}x{d}\")"
   ]
  },
  {
   "cell_type": "code",
   "execution_count": 3,
   "metadata": {},
   "outputs": [
    {
     "data": {
      "text/plain": [
       "-1"
      ]
     },
     "execution_count": 3,
     "metadata": {},
     "output_type": "execute_result"
    }
   ],
   "source": [
    "cv2.imshow(\"jurrasic park\",image)\n",
    "cv2.waitKey(0)\n",
    "#need this to make sure that image we can see otherwise it will be whoop"
   ]
  },
  {
   "cell_type": "code",
   "execution_count": 4,
   "metadata": {},
   "outputs": [
    {
     "name": "stdout",
     "output_type": "stream",
     "text": [
      "R=41 G=49 B=37\n"
     ]
    }
   ],
   "source": [
    "#to access an individual pixel value\n",
    "#each pixel location has a 3 tuple thingy\n",
    "(b,g,r) = image[100,50] \n",
    "#co-ordinates are x=50 and y=100 for above set of pixels\n",
    "#best way to remeber is that height comes first,forget x y\n",
    "print(f\"R={r} G={g} B={b}\")"
   ]
  },
  {
   "cell_type": "code",
   "execution_count": 5,
   "metadata": {},
   "outputs": [
    {
     "data": {
      "text/plain": [
       "-1"
      ]
     },
     "execution_count": 5,
     "metadata": {},
     "output_type": "execute_result"
    }
   ],
   "source": [
    "#ROI is a set of values of height and width pixels \n",
    "#60,320 to 160,420\n",
    "roi = image[60:160,320:420]\n",
    "#roi is like subimage\n",
    "cv2.imshow(\"ROI\",roi)\n",
    "cv2.waitKey(0)"
   ]
  },
  {
   "cell_type": "code",
   "execution_count": 9,
   "metadata": {},
   "outputs": [
    {
     "data": {
      "text/plain": [
       "-1"
      ]
     },
     "execution_count": 9,
     "metadata": {},
     "output_type": "execute_result"
    }
   ],
   "source": [
    "#resizing the image\n",
    "resized = cv2.resize(image,(200,200))\n",
    "cv2.imshow(\"rectangle\",resized)\n",
    "cv2.waitKey(0)"
   ]
  },
  {
   "cell_type": "code",
   "execution_count": 6,
   "metadata": {},
   "outputs": [
    {
     "data": {
      "text/plain": [
       "-1"
      ]
     },
     "execution_count": 6,
     "metadata": {},
     "output_type": "execute_result"
    }
   ],
   "source": [
    "#image appears squishy\n",
    "#should resize with same aspect ratio\n",
    "#its defined has having fixed h/w ratio\n",
    "#r = h/w\n",
    "dim = (300,161)\n",
    "resized = cv2.resize(image,dim)\n",
    "cv2.imshow(\"goodone\",resized)\n",
    "cv2.waitKey(0)"
   ]
  },
  {
   "cell_type": "code",
   "execution_count": 7,
   "metadata": {},
   "outputs": [
    {
     "data": {
      "text/plain": [
       "-1"
      ]
     },
     "execution_count": 7,
     "metadata": {},
     "output_type": "execute_result"
    }
   ],
   "source": [
    "resized = imutils.resize(image,width=200) # better because aspect ratio taken care\n",
    "#or can also provide the target height\n",
    "cv2.imshow(\"imutils resized\",resized)\n",
    "cv2.waitKey(0)"
   ]
  },
  {
   "cell_type": "code",
   "execution_count": 10,
   "metadata": {},
   "outputs": [
    {
     "data": {
      "text/plain": [
       "-1"
      ]
     },
     "execution_count": 10,
     "metadata": {},
     "output_type": "execute_result"
    }
   ],
   "source": [
    "#rotating an image involves - calculating interger central co-ordinates\n",
    "center = (w//2,h//2)#putting width first?\n",
    "M = cv2.getRotationMatrix2D(center,-45,0.5) #aboutpoint,angle,gaininsize\n",
    "#obtain rotation matrix about center with angle required\n",
    "rotated = cv2.warpAffine(image,M,(w,h))\n",
    "#what does this do\n",
    "cv2.imshow(\"rotated\",rotated)\n",
    "cv2.waitKey(0)"
   ]
  },
  {
   "cell_type": "code",
   "execution_count": 14,
   "metadata": {},
   "outputs": [
    {
     "data": {
      "text/plain": [
       "-1"
      ]
     },
     "execution_count": 14,
     "metadata": {},
     "output_type": "execute_result"
    }
   ],
   "source": [
    "#same image rotation is possible in one line using imutils\n",
    "rotated = imutils.rotate(image,-45) #is obviously better but gain?\n",
    "cv2.imshow(\"rotated imutils\",rotated)\n",
    "cv2.waitKey(0)\n",
    "#imutils uses cv2, image gets clipped, a cool function of rotate bound is there which \n",
    "#the image with no clipping resizing the place\n"
   ]
  },
  {
   "cell_type": "code",
   "execution_count": 15,
   "metadata": {},
   "outputs": [
    {
     "data": {
      "text/plain": [
       "-1"
      ]
     },
     "execution_count": 15,
     "metadata": {},
     "output_type": "execute_result"
    }
   ],
   "source": [
    "rotated = imutils.rotate_bound(image,45)\n",
    "#here clockwise made positive\n",
    "cv2.imshow(\"disp\",rotated)\n",
    "cv2.waitKey(0)"
   ]
  },
  {
   "cell_type": "code",
   "execution_count": 4,
   "metadata": {},
   "outputs": [
    {
     "data": {
      "text/plain": [
       "-1"
      ]
     },
     "execution_count": 4,
     "metadata": {},
     "output_type": "execute_result"
    }
   ],
   "source": [
    "#goodpractice to blur images before doing all image processing stuff\n",
    "#blurring reduces the number of high freq components\n",
    "#using gaussian blue\n",
    "blur = cv2.GaussianBlur(image,(11,11),0)\n",
    "#11,11 is the kernel map size here. larger the kernel more the blur range of values covered\n",
    "cv2.imshow(\"blur\",blur)\n",
    "cv2.waitKey(0)\n"
   ]
  },
  {
   "cell_type": "code",
   "execution_count": 5,
   "metadata": {},
   "outputs": [
    {
     "data": {
      "text/plain": [
       "-1"
      ]
     },
     "execution_count": 5,
     "metadata": {},
     "output_type": "execute_result"
    }
   ],
   "source": [
    "#drawing on an image happens on the image,work on a copy\n",
    "output = image.copy()\n",
    "cv2.rectangle(output,(320,60),(420,160),(0,0,255),2)\n",
    "#format is fun  = img,tl,br,color,thic\n",
    "cv2.imshow(\"rect\",output)\n",
    "cv2.waitKey(0)\n",
    "#for text its putText(im,string,start,font,scale,color,thickness)\n"
   ]
  },
  {
   "cell_type": "code",
   "execution_count": 7,
   "metadata": {},
   "outputs": [
    {
     "data": {
      "text/plain": [
       "-1"
      ]
     },
     "execution_count": 7,
     "metadata": {},
     "output_type": "execute_result"
    }
   ],
   "source": [
    "cv2.circle(output,(300,150),20,(255,0,0),-1)\n",
    "#image,center,rad,color,thickness\n",
    "cv2.imshow(\"circle\",output)\n",
    "cv2.waitKey(0)"
   ]
  },
  {
   "cell_type": "code",
   "execution_count": null,
   "metadata": {},
   "outputs": [],
   "source": []
  }
 ],
 "metadata": {
  "kernelspec": {
   "display_name": "Python 3",
   "language": "python",
   "name": "python3"
  },
  "language_info": {
   "codemirror_mode": {
    "name": "ipython",
    "version": 3
   },
   "file_extension": ".py",
   "mimetype": "text/x-python",
   "name": "python",
   "nbconvert_exporter": "python",
   "pygments_lexer": "ipython3",
   "version": "3.6.9"
  }
 },
 "nbformat": 4,
 "nbformat_minor": 2
}
