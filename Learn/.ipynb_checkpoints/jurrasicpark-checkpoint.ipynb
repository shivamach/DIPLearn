{
 "cells": [
  {
   "cell_type": "code",
   "execution_count": 2,
   "metadata": {},
   "outputs": [
    {
     "name": "stdout",
     "output_type": "stream",
     "text": [
      "the dimensions of image are 322x600x3\n"
     ]
    }
   ],
   "source": [
    "import imutils\n",
    "import cv2\n",
    "image = cv2.imread(\"jp.png\")\n",
    "(h,w,d) = image.shape\n",
    "print(f\"the dimensions of image are {h}x{w}x{d}\")"
   ]
  },
  {
   "cell_type": "code",
   "execution_count": 3,
   "metadata": {},
   "outputs": [
    {
     "data": {
      "text/plain": [
       "-1"
      ]
     },
     "execution_count": 3,
     "metadata": {},
     "output_type": "execute_result"
    }
   ],
   "source": [
    "cv2.imshow(\"jurrasic park\",image)\n",
    "cv2.waitKey(0)\n",
    "#need this to make sure that image we can see otherwise it will be whoop"
   ]
  },
  {
   "cell_type": "code",
   "execution_count": 4,
   "metadata": {},
   "outputs": [
    {
     "name": "stdout",
     "output_type": "stream",
     "text": [
      "R=41 G=49 B=37\n"
     ]
    }
   ],
   "source": [
    "#to access an individual pixel value\n",
    "#each pixel location has a 3 tuple thingy\n",
    "(b,g,r) = image[100,50] \n",
    "#co-ordinates are x=50 and y=100 for above set of pixels\n",
    "#best way to remeber is that height comes first,forget x y\n",
    "print(f\"R={r} G={g} B={b}\")"
   ]
  },
  {
   "cell_type": "code",
   "execution_count": 5,
   "metadata": {},
   "outputs": [
    {
     "data": {
      "text/plain": [
       "-1"
      ]
     },
     "execution_count": 5,
     "metadata": {},
     "output_type": "execute_result"
    }
   ],
   "source": [
    "#ROI is a set of values of height and width pixels \n",
    "#60,320 to 160,420\n",
    "roi = image[60:160,320:420]\n",
    "#roi is like subimage\n",
    "cv2.imshow(\"ROI\",roi)\n",
    "cv2.waitKey(0)"
   ]
  },
  {
   "cell_type": "code",
   "execution_count": 9,
   "metadata": {},
   "outputs": [
    {
     "data": {
      "text/plain": [
       "-1"
      ]
     },
     "execution_count": 9,
     "metadata": {},
     "output_type": "execute_result"
    }
   ],
   "source": [
    "#resizing the image\n",
    "resized = cv2.resize(image,(200,200))\n",
    "cv2.imshow(\"rectangle\",resized)\n",
    "cv2.waitKey(0)"
   ]
  },
  {
   "cell_type": "code",
   "execution_count": 11,
   "metadata": {},
   "outputs": [
    {
     "data": {
      "text/plain": [
       "-1"
      ]
     },
     "execution_count": 11,
     "metadata": {},
     "output_type": "execute_result"
    }
   ],
   "source": [
    "#image appears squishy\n",
    "#should resize with same aspect ratio\n",
    "#its defined has having fixed h/w ratio\n",
    "#r = h/w\n",
    "dim = (300,161)\n",
    "resized = cv2.resize(image,dim)\n",
    "cv2.imshow(\"goodone\",resized)\n",
    "cv2.waitKey(0)"
   ]
  },
  {
   "cell_type": "code",
   "execution_count": null,
   "metadata": {},
   "outputs": [],
   "source": []
  }
 ],
 "metadata": {
  "kernelspec": {
   "display_name": "Python 3",
   "language": "python",
   "name": "python3"
  },
  "language_info": {
   "codemirror_mode": {
    "name": "ipython",
    "version": 3
   },
   "file_extension": ".py",
   "mimetype": "text/x-python",
   "name": "python",
   "nbconvert_exporter": "python",
   "pygments_lexer": "ipython3",
   "version": "3.6.9"
  }
 },
 "nbformat": 4,
 "nbformat_minor": 2
}
